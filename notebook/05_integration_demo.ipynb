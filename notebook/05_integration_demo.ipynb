{
 "cells": [
  {
   "cell_type": "markdown",
   "id": "ee0bfac4",
   "metadata": {},
   "source": [
    "# 端到端：原始ECG → 疾病预测"
   ]
  }
 ],
 "metadata": {
  "language_info": {
   "name": "python"
  }
 },
 "nbformat": 4,
 "nbformat_minor": 5
}
