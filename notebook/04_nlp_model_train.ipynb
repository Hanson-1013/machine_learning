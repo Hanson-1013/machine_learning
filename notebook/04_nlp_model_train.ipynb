{
 "cells": [
  {
   "cell_type": "markdown",
   "id": "39d6b8a7",
   "metadata": {},
   "source": [
    "# 第二模型训练（回归/分类）"
   ]
  }
 ],
 "metadata": {
  "language_info": {
   "name": "python"
  }
 },
 "nbformat": 4,
 "nbformat_minor": 5
}
