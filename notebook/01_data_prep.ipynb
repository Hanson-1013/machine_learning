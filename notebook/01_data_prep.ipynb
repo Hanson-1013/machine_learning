{
 "cells": [
  {
   "cell_type": "markdown",
   "id": "75cba59f",
   "metadata": {},
   "source": [
    "# 原始CGN数据 清洗/切片/对齐/保存中间件"
   ]
  }
 ],
 "metadata": {
  "language_info": {
   "name": "python"
  }
 },
 "nbformat": 4,
 "nbformat_minor": 5
}
