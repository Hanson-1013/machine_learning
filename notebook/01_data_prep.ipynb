{
 "cells": [
  {
   "cell_type": "markdown",
   "id": "75cba59f",
   "metadata": {},
   "source": [
    "# 原始CGN数据 清洗/切片/对齐/保存中间件"
   ]
  },
  {
   "cell_type": "markdown",
   "id": "04adb846",
   "metadata": {},
   "source": [
    "hello"
   ]
  }
 ],
 "metadata": {
  "language_info": {
   "name": "python"
  }
 },
 "nbformat": 4,
 "nbformat_minor": 5
}
