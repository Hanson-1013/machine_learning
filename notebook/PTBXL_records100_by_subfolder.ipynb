{
 "cells": [
  {
   "cell_type": "markdown",
   "id": "88a5f6d5",
   "metadata": {},
   "source": [
    "# PTB-XL（records100 子文件夹逐个扫描）→ NumPy 预处理 Notebook\n",
    "\n",
    "本 Notebook **按子文件夹逐个扫描** `records100/00000、01000、...`，\n",
    "在每个子文件夹中把同名的 `*_lr.hea` 与 `*_lr.dat` 成对配好，\n",
    "用 **WFDB** 读取后逐条保存为 `.npy`（可选 z‑score 与统一长度）。\n",
    "最后可选把所有样本堆叠成 `X.npy`。"
   ]
  },
  {
   "cell_type": "markdown",
   "id": "056f30af",
   "metadata": {},
   "source": [
    "## 0. 安装依赖（如已安装可跳过）"
   ]
  },
  {
   "cell_type": "code",
   "execution_count": 1,
   "id": "6dcfc92f",
   "metadata": {},
   "outputs": [
    {
     "name": "stdout",
     "output_type": "stream",
     "text": [
      "Note: you may need to restart the kernel to use updated packages.\n"
     ]
    }
   ],
   "source": [
    "%pip install -q wfdb numpy"
   ]
  },
  {
   "cell_type": "markdown",
   "id": "5e152c98",
   "metadata": {},
   "source": [
    "## 1. 路径与参数（请改为你的本地路径）"
   ]
  },
  {
   "cell_type": "code",
   "execution_count": 2,
   "id": "3f542972",
   "metadata": {},
   "outputs": [
    {
     "name": "stdout",
     "output_type": "stream",
     "text": [
      "RECORDS_ROOT = ../data/ptb_xl_ecg/records100\n",
      "OUT_DIR      = ../processed_records100_by_folder\n"
     ]
    }
   ],
   "source": [
    "from pathlib import Path\n",
    "\n",
    "# 必须正好指向 records100 这一层\n",
    "RECORDS_ROOT = Path(\"../data/ptb_xl_ecg/records100\")\n",
    "\n",
    "# 输出目录（会自动创建）\n",
    "OUT_DIR = Path(\"../processed_records100_by_folder\")\n",
    "OUT_DIR.mkdir(parents=True, exist_ok=True)\n",
    "\n",
    "# 选项\n",
    "LR_ONLY     = True     # 只处理 *_lr.hea/.dat（推荐 True）\n",
    "STANDARDIZE = True     # 逐导联 z-score\n",
    "TARGET_LEN  = 1000     # 统一长度（100Hz×10s）；设 0 表示不裁剪/填充\n",
    "SKIP_EXISTS = True     # 已存在 .npy 则跳过\n",
    "LIMIT_FOLDERS = None   # 仅处理前K个子文件夹（调试用）；None=全部\n",
    "LIMIT_FILES_PER_FOLDER = None  # 每个子文件夹只处理前N对（调试用）\n",
    "\n",
    "print(\"RECORDS_ROOT =\", RECORDS_ROOT)\n",
    "print(\"OUT_DIR      =\", OUT_DIR)"
   ]
  },
  {
   "cell_type": "markdown",
   "id": "bcc4ffff",
   "metadata": {},
   "source": [
    "## 2. 工具函数"
   ]
  },
  {
   "cell_type": "code",
   "execution_count": 3,
   "id": "194cb61c",
   "metadata": {},
   "outputs": [],
   "source": [
    "import numpy as np\n",
    "\n",
    "def zscore_per_channel(x: np.ndarray) -> np.ndarray:\n",
    "    m = x.mean(axis=0, keepdims=True)\n",
    "    s = x.std(axis=0, keepdims=True)\n",
    "    s[s == 0] = 1.0\n",
    "    return (x - m) / s\n",
    "\n",
    "def pad_or_crop(x: np.ndarray, L: int) -> np.ndarray:\n",
    "    if L <= 0:\n",
    "        return x\n",
    "    T, C = x.shape\n",
    "    if T == L:\n",
    "        return x\n",
    "    if T > L:\n",
    "        return x[:L, :]\n",
    "    y = np.zeros((L, C), dtype=x.dtype)\n",
    "    y[:T, :] = x\n",
    "    return y"
   ]
  },
  {
   "cell_type": "markdown",
   "id": "94a259f7",
   "metadata": {},
   "source": [
    "## 3. 逐个子文件夹扫描与配对（只列不读）"
   ]
  },
  {
   "cell_type": "code",
   "execution_count": 4,
   "id": "50eace3c",
   "metadata": {},
   "outputs": [
    {
     "name": "stdout",
     "output_type": "stream",
     "text": [
      "子文件夹个数: 22\n",
      "示例前10个： ['00000', '01000', '02000', '03000', '04000', '05000', '06000', '07000', '08000', '09000']\n",
      "总配对数量: 21837\n",
      "\n",
      "[00000] 前几对：\n",
      " - 00001_lr.hea | 00001_lr.dat\n",
      " - 00002_lr.hea | 00002_lr.dat\n",
      " - 00003_lr.hea | 00003_lr.dat\n",
      " - 00004_lr.hea | 00004_lr.dat\n",
      " - 00005_lr.hea | 00005_lr.dat\n",
      " - 00006_lr.hea | 00006_lr.dat\n",
      " - 00007_lr.hea | 00007_lr.dat\n",
      " - 00008_lr.hea | 00008_lr.dat\n"
     ]
    }
   ],
   "source": [
    "from pathlib import Path\n",
    "\n",
    "# 列出 records100 下的一级子文件夹\n",
    "subdirs = sorted([p for p in RECORDS_ROOT.iterdir() if p.is_dir()])\n",
    "if LIMIT_FOLDERS:\n",
    "    subdirs = subdirs[:int(LIMIT_FOLDERS)]\n",
    "\n",
    "print(\"子文件夹个数:\", len(subdirs))\n",
    "print(\"示例前10个：\", [d.name for d in subdirs[:10]])\n",
    "\n",
    "# 在每个子文件夹里配对 *_lr.hea 与 .dat\n",
    "pairs_by_folder = {}\n",
    "total_pairs = 0\n",
    "\n",
    "for folder in subdirs:\n",
    "    heas = sorted(folder.glob(\"*_lr.hea\") if LR_ONLY else folder.glob(\"*.hea\"))\n",
    "    pairs = []\n",
    "    for hea in heas:\n",
    "        dat = hea.with_suffix(\".dat\")\n",
    "        # 兼容大小写 .DAT\n",
    "        if not dat.exists():\n",
    "            dat_upper = hea.with_suffix(\".DAT\")\n",
    "            if dat_upper.exists():\n",
    "                dat = dat_upper\n",
    "        if dat.exists():\n",
    "            pairs.append((hea, dat))\n",
    "    if LIMIT_FILES_PER_FOLDER:\n",
    "        pairs = pairs[:int(LIMIT_FILES_PER_FOLDER)]\n",
    "    pairs_by_folder[folder] = pairs\n",
    "    total_pairs += len(pairs)\n",
    "\n",
    "print(\"总配对数量:\", total_pairs)\n",
    "# 展示第一个子文件夹前几对\n",
    "for folder in subdirs[:1]:\n",
    "    print(f\"\\n[{folder.name}] 前几对：\")\n",
    "    for hea, dat in pairs_by_folder[folder][:8]:\n",
    "        print(\" -\", hea.name, \"|\", dat.name)"
   ]
  },
  {
   "cell_type": "markdown",
   "id": "9bb286f8",
   "metadata": {},
   "source": [
    "## 4. 读取→处理→保存为 `.npy` + `.json`（按子文件夹逐个执行）"
   ]
  },
  {
   "cell_type": "code",
   "execution_count": 5,
   "id": "31dcb2c7",
   "metadata": {},
   "outputs": [
    {
     "name": "stdout",
     "output_type": "stream",
     "text": [
      "\n",
      "处理子文件夹：00000 | 记录数：999\n",
      "\n",
      "处理子文件夹：01000 | 记录数：1000\n",
      "\n",
      "处理子文件夹：02000 | 记录数：1000\n",
      "\n",
      "处理子文件夹：03000 | 记录数：1000\n",
      "\n",
      "处理子文件夹：04000 | 记录数：1000\n",
      "\n",
      "处理子文件夹：05000 | 记录数：1000\n",
      "\n",
      "处理子文件夹：06000 | 记录数：1000\n",
      "\n",
      "处理子文件夹：07000 | 记录数：1000\n",
      "\n",
      "处理子文件夹：08000 | 记录数：1000\n",
      "\n",
      "处理子文件夹：09000 | 记录数：1000\n",
      "\n",
      "处理子文件夹：10000 | 记录数：1000\n",
      "\n",
      "处理子文件夹：11000 | 记录数：1000\n",
      "\n",
      "处理子文件夹：12000 | 记录数：1000\n",
      "\n",
      "处理子文件夹：13000 | 记录数：1000\n",
      "\n",
      "处理子文件夹：14000 | 记录数：1000\n",
      "\n",
      "处理子文件夹：15000 | 记录数：1000\n",
      "\n",
      "处理子文件夹：16000 | 记录数：1000\n",
      "\n",
      "处理子文件夹：17000 | 记录数：1000\n",
      "\n",
      "处理子文件夹：18000 | 记录数：1000\n",
      "\n",
      "处理子文件夹：19000 | 记录数：1000\n",
      "\n",
      "处理子文件夹：20000 | 记录数：1000\n",
      "\n",
      "处理子文件夹：21000 | 记录数：838\n",
      "\n",
      "✅ 完成：成功 21837，跳过 0，失败 0。输出目录：../processed_records100_by_folder\n"
     ]
    }
   ],
   "source": [
    "import json, wfdb, numpy as np\n",
    "\n",
    "ok = skip = fail = 0\n",
    "\n",
    "for folder in subdirs:\n",
    "    pairs = pairs_by_folder.get(folder, [])\n",
    "    if not pairs:\n",
    "        continue\n",
    "\n",
    "    print(f\"\\n处理子文件夹：{folder.name} | 记录数：{len(pairs)}\")\n",
    "    for hea, dat in pairs:\n",
    "        base = hea.with_suffix(\"\")  # 去掉扩展名 -> /.../00000/00001_lr\n",
    "        out_npy  = OUT_DIR / f\"{base.name}.npy\"\n",
    "        out_json = OUT_DIR / f\"{base.name}.json\"\n",
    "\n",
    "        if SKIP_EXISTS and out_npy.exists():\n",
    "            skip += 1\n",
    "            continue\n",
    "\n",
    "        try:\n",
    "            rec = wfdb.rdrecord(str(base))                # 传“基名”，不带扩展名\n",
    "            sig = rec.p_signal.astype(np.float32, copy=False)  # (T, C)，单位 mV\n",
    "\n",
    "            if STANDARDIZE:\n",
    "                sig = zscore_per_channel(sig)\n",
    "            if TARGET_LEN > 0:\n",
    "                sig = pad_or_crop(sig, TARGET_LEN)\n",
    "\n",
    "            np.save(out_npy, sig)\n",
    "\n",
    "            meta = dict(\n",
    "                fs=float(rec.fs),\n",
    "                n_sig=int(sig.shape[1]),\n",
    "                n_samples=int(sig.shape[0]),\n",
    "                sig_names=list(rec.sig_name),\n",
    "                record_base=str(base),\n",
    "                sampling_rate_declared=100\n",
    "            )\n",
    "            out_json.write_text(json.dumps(meta, ensure_ascii=False, indent=2), encoding=\"utf-8\")\n",
    "            ok += 1\n",
    "        except Exception as e:\n",
    "            fail += 1\n",
    "            print(f\"[失败] {base.name}: {e}\")\n",
    "\n",
    "print(f\"\\n✅ 完成：成功 {ok}，跳过 {skip}，失败 {fail}。输出目录：{OUT_DIR}\")"
   ]
  },
  {
   "cell_type": "markdown",
   "id": "8efdb4a5",
   "metadata": {},
   "source": [
    "## 5. （可选）堆叠所有样本为 `X.npy`（要求长度一致，如 TARGET_LEN=1000）"
   ]
  },
  {
   "cell_type": "code",
   "execution_count": 6,
   "id": "b1b966a8",
   "metadata": {},
   "outputs": [
    {
     "name": "stdout",
     "output_type": "stream",
     "text": [
      "已保存 X.npy，形状 = (21837, 1000, 12)\n"
     ]
    }
   ],
   "source": [
    "import numpy as np\n",
    "\n",
    "npys = sorted(OUT_DIR.glob(\"*.npy\"))\n",
    "if not npys:\n",
    "    raise FileNotFoundError(\"没有找到任何 .npy，请先运行第 4 步。\")\n",
    "\n",
    "# 简单检查长度一致性\n",
    "lengths = set()\n",
    "for p in npys[:50]:  # 采样检查前50个\n",
    "    arr = np.load(p, mmap_mode=\"r\")\n",
    "    lengths.add(arr.shape[0])\n",
    "    if len(lengths) > 1:\n",
    "        break\n",
    "\n",
    "if len(lengths) > 1:\n",
    "    print(\"样本长度不一致，无法堆叠。请将 TARGET_LEN 设为固定值（如 1000）后重新生成。\")\n",
    "else:\n",
    "    X = np.stack([np.load(p) for p in npys], axis=0).astype(np.float32, copy=False)\n",
    "    np.save(OUT_DIR / \"X.npy\", X)\n",
    "    print(\"已保存 X.npy，形状 =\", X.shape)"
   ]
  },
  {
   "cell_type": "code",
   "execution_count": 9,
   "id": "be702ab0",
   "metadata": {},
   "outputs": [
    {
     "data": {
      "image/png": "[encoded data removed]",
      "text/plain": [
       "<Figure size 1000x300 with 1 Axes>"
      ]
     },
     "metadata": {},
     "output_type": "display_data"
    }
   ],
   "source": [
    "from pathlib import Path\n",
    "import json, random\n",
    "import numpy as np\n",
    "import matplotlib.pyplot as plt\n",
    "\n",
    "OUT_DIR = Path(\"../data/processed_records100_by_folder\")  # 改成你的输出目录\n",
    "\n",
    "npys = sorted(OUT_DIR.glob(\"*.npy\"))\n",
    "assert npys, \"目录里还没有 .npy\"\n",
    "\n",
    "p = random.choice(npys)                   # 也可写成 p = OUT_DIR/'00001_lr.npy'\n",
    "x = np.load(p)                            # 形状 (T, C)\n",
    "meta = json.loads((p.with_suffix(\".json\")).read_text(encoding=\"utf-8\"))\n",
    "fs = float(meta.get(\"fs\", 100.0))\n",
    "t = np.arange(x.shape[0]) / fs\n",
    "\n",
    "plt.figure(figsize=(10,3))\n",
    "plt.plot(t, x[:,0])\n",
    "plt.title(f\"{p.name} | shape={x.shape}\")\n",
    "plt.xlabel(\"Time (s)\"); plt.ylabel(\"Amplitude (mV or z-score)\")\n",
    "plt.tight_layout(); plt.show()"
   ]
  }
 ],
 "metadata": {
  "kernelspec": {
   "display_name": "tf",
   "language": "python",
   "name": "python3"
  },
  "language_info": {
   "codemirror_mode": {
    "name": "ipython",
    "version": 3
   },
   "file_extension": ".py",
   "mimetype": "text/x-python",
   "name": "python",
   "nbconvert_exporter": "python",
   "pygments_lexer": "ipython3",
   "version": "3.10.18"
  }
 },
 "nbformat": 4,
 "nbformat_minor": 5
}
