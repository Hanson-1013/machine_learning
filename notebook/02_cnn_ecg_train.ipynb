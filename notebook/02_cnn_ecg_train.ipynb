{
 "cells": [
  {
   "cell_type": "markdown",
   "id": "6335ad76",
   "metadata": {},
   "source": [
    "# 训练CNN学习P/T波等形态"
   ]
  }
 ],
 "metadata": {
  "language_info": {
   "name": "python"
  }
 },
 "nbformat": 4,
 "nbformat_minor": 5
}
