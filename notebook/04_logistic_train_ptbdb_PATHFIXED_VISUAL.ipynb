{
  "cells": [
    {
      "cell_type": "markdown",
      "metadata": {},
      "source": "# PTBDB 逻辑回归 + 分类效果可视化\n本 Notebook 使用固定路径导入数据，并展示分类表现（混淆矩阵、ROC、PR）。"
    },
    {
      "cell_type": "markdown",
      "metadata": {},
      "source": "## 1. 读取数据"
    },
    {
      "cell_type": "code",
      "execution_count": null,
      "metadata": {},
      "outputs": [],
      "source": "import pandas as pd\nimport numpy as np\n\np_norm = \"/Users/yuxiang/ENGG2112/Project/machine_learning/data/ecg_category/ptbdb_normal.csv\"\np_abn  = \"/Users/yuxiang/ENGG2112/Project/machine_learning/data/ecg_category/ptbdb_abnormal.csv\"\n\nprint(\"✅ 使用固定路径:\")\nprint(\"正常文件:\", p_norm)\nprint(\"异常文件:\", p_abn)\n\nnormal = pd.read_csv(p_norm, header=None)\nabnormal = pd.read_csv(p_abn, header=None)\n\ndef find_label_col(df):\n    for c in df.columns[::-1]:\n        vals = df[c].dropna().unique()\n        if set(vals).issubset((0, 1)):\n            return c\n    return None\n\nln, la = find_label_col(normal), find_label_col(abnormal)\n\nif ln is not None:\n    y_normal = normal[ln].astype(int).to_numpy()\n    X_normal = normal.drop(columns=[ln]).to_numpy()\nelse:\n    y_normal = np.zeros(len(normal), dtype=int)\n    X_normal = normal.to_numpy()\n\nif la is not None:\n    y_abnormal = abnormal[la].astype(int).to_numpy()\n    X_abnormal = abnormal.drop(columns=[la]).to_numpy()\nelse:\n    y_abnormal = np.ones(len(abnormal), dtype=int)\n    X_abnormal = abnormal.to_numpy()\n\nm = min(X_normal.shape[1], X_abnormal.shape[1])\nX = np.vstack([X_normal[:, :m], X_abnormal[:, :m]])\ny = np.concatenate([y_normal, y_abnormal]).astype(int)\nX = np.nan_to_num(X, nan=0.0, posinf=0.0, neginf=0.0)\n\nprint(\"数据形状:\", X.shape, \" 标签形状:\", y.shape)\nprint(\"类别分布:\", dict(enumerate(np.bincount(y))))\n"
    },
    {
      "cell_type": "markdown",
      "metadata": {},
      "source": "## 2. 5 折交叉验证：标准化 + 逻辑回归"
    },
    {
      "cell_type": "code",
      "execution_count": null,
      "metadata": {},
      "outputs": [],
      "source": "from sklearn.pipeline import make_pipeline\nfrom sklearn.preprocessing import StandardScaler\nfrom sklearn.linear_model import LogisticRegression\nfrom sklearn.model_selection import StratifiedKFold\nfrom sklearn.metrics import roc_auc_score, balanced_accuracy_score, confusion_matrix\n\nskf = StratifiedKFold(n_splits=5, shuffle=True, random_state=42)\naucs, bals = [], []\ncm_sum = np.zeros((2,2), dtype=float)\nprobs, truths = [], []\n\nfor tr_idx, te_idx in skf.split(X, y):\n    X_tr, X_te = X[tr_idx], X[te_idx]\n    y_tr, y_te = y[tr_idx], y[te_idx]\n\n    pipe = make_pipeline(StandardScaler(),\n                         LogisticRegression(max_iter=2000, class_weight='balanced'))\n    pipe.fit(X_tr, y_tr)\n\n    y_prob = pipe.predict_proba(X_te)[:,1]\n    y_pred = (y_prob >= 0.5).astype(int)\n\n    aucs.append(roc_auc_score(y_te, y_prob))\n    bals.append(balanced_accuracy_score(y_te, y_pred))\n    cm_sum += confusion_matrix(y_te, y_pred, labels=[0,1])\n    probs.extend(y_prob)\n    truths.extend(y_te)\n\nprint(f\"平均 ROC-AUC: {np.mean(aucs):.4f} ± {np.std(aucs):.4f}\")\nprint(f\"平均 Balanced Acc: {np.mean(bals):.4f} ± {np.std(bals):.4f}\")\nprint(\"平均混淆矩阵(近似):\\n\", np.round(cm_sum / skf.get_n_splits(), 1))\n"
    },
    {
      "cell_type": "markdown",
      "metadata": {},
      "source": "## 3. 分类效果可视化（混淆矩阵 + ROC + PR）"
    },
    {
      "cell_type": "code",
      "execution_count": null,
      "metadata": {},
      "outputs": [],
      "source": "import matplotlib.pyplot as plt\nimport seaborn as sns\nfrom sklearn.metrics import roc_curve, precision_recall_curve, auc\n\nfig, ax = plt.subplots(1, 3, figsize=(15,4))\n\n# --- 混淆矩阵 ---\nsns.heatmap(np.round(cm_sum / skf.get_n_splits()), annot=True, fmt=\".0f\", cmap=\"Blues\", ax=ax[0])\nax[0].set_title(\"平均混淆矩阵\")\nax[0].set_xlabel(\"预测标签\")\nax[0].set_ylabel(\"真实标签\")\n\n# --- ROC 曲线 ---\nfpr, tpr, _ = roc_curve(truths, probs)\nroc_auc = auc(fpr, tpr)\nax[1].plot(fpr, tpr, label=f\"AUC={roc_auc:.3f}\")\nax[1].plot([0,1],[0,1],'--',color='gray')\nax[1].set_title(\"ROC 曲线\")\nax[1].set_xlabel(\"假阳率 (FPR)\")\nax[1].set_ylabel(\"真阳率 (TPR)\")\nax[1].legend()\n\n# --- PR 曲线 ---\np, r, _ = precision_recall_curve(truths, probs)\nax[2].plot(r, p, color='orange')\nax[2].set_title(\"PR 曲线 (Precision-Recall)\")\nax[2].set_xlabel(\"召回率 (Recall)\")\nax[2].set_ylabel(\"精确率 (Precision)\")\n\nplt.tight_layout()\nplt.show()\n"
    }
  ],
  "metadata": {
    "kernelspec": {
      "display_name": "Python 3",
      "language": "python",
      "name": "python3"
    },
    "language_info": {
      "name": "python",
      "version": "3.x"
    }
  },
  "nbformat": 4,
  "nbformat_minor": 5
}